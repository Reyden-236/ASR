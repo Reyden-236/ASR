{
 "cells": [
  {
   "cell_type": "code",
   "execution_count": 1,
   "id": "7aa7eee9",
   "metadata": {},
   "outputs": [
    {
     "name": "stderr",
     "output_type": "stream",
     "text": [
      "C:\\Users\\Raashid\\anaconda3\\envs\\ML_DL\\Lib\\site-packages\\tqdm\\auto.py:21: TqdmWarning: IProgress not found. Please update jupyter and ipywidgets. See https://ipywidgets.readthedocs.io/en/stable/user_install.html\n",
      "  from .autonotebook import tqdm as notebook_tqdm\n"
     ]
    }
   ],
   "source": [
    "from transformers import SpeechT5Processor, SpeechT5ForSpeechToText\n",
    "from scipy.io import wavfile\n",
    "import soundfile\n",
    "import sounddevice as sd\n",
    "import numpy as np"
   ]
  },
  {
   "cell_type": "code",
   "execution_count": 2,
   "id": "0f83c5d6",
   "metadata": {},
   "outputs": [],
   "source": [
    "sampling_rate = 16000"
   ]
  },
  {
   "cell_type": "code",
   "execution_count": 3,
   "id": "11446225",
   "metadata": {},
   "outputs": [],
   "source": [
    "def read_audio():\n",
    "    inp = soundfile.read(\"output.wav\")\n",
    "    return inp"
   ]
  },
  {
   "cell_type": "code",
   "execution_count": 4,
   "id": "9d8b16c4",
   "metadata": {},
   "outputs": [],
   "source": [
    "def record_audio(seconds):\n",
    "    myrecording = sd.rec(int(seconds * sampling_rate), samplerate=sampling_rate, channels=1)\n",
    "    sd.wait()  # Wait until recording is finished\n",
    "    wavfile.write('output.wav', sampling_rate, myrecording)  # Save as WAV file"
   ]
  },
  {
   "cell_type": "code",
   "execution_count": 33,
   "id": "7a7bcc93",
   "metadata": {},
   "outputs": [],
   "source": [
    "def model(inp):\n",
    "    \n",
    "    processor = SpeechT5Processor.from_pretrained(\"microsoft/speecht5_asr\")\n",
    "    model = SpeechT5ForSpeechToText.from_pretrained(\"microsoft/speecht5_asr\")\n",
    "    inputs = processor(audio=inp[0], sampling_rate=sampling_rate,return_tensors=\"pt\")\n",
    "    predicted_ids = model.generate(**inputs, max_length=100)\n",
    "\n",
    "    # transcribe speech\n",
    "    transcription = processor.batch_decode(predicted_ids, skip_special_tokens=True)\n",
    "    print(transcription[0])"
   ]
  },
  {
   "cell_type": "code",
   "execution_count": 34,
   "id": "736c445e",
   "metadata": {},
   "outputs": [],
   "source": [
    "def run():\n",
    "    seconds = int(input(\"Enter the duration of the audio file :\"))\n",
    "    print('Starting recording...')\n",
    "    record_audio(seconds)\n",
    "    print('Recording Completed...')\n",
    "    inp = read_audio()\n",
    "    model(inp)"
   ]
  },
  {
   "cell_type": "code",
   "execution_count": 39,
   "id": "3fa805af",
   "metadata": {},
   "outputs": [
    {
     "name": "stdout",
     "output_type": "stream",
     "text": [
      "Enter the duration of the audio file :10\n",
      "Starting recording...\n",
      "Recording Completed...\n"
     ]
    },
    {
     "name": "stderr",
     "output_type": "stream",
     "text": [
      "Special tokens have been added in the vocabulary, make sure the associated word embeddings are fine-tuned or trained.\n",
      "Some weights of the model checkpoint at microsoft/speecht5_asr were not used when initializing SpeechT5ForSpeechToText: ['speecht5.encoder.prenet.pos_conv_embed.conv.weight_v', 'speecht5.encoder.prenet.pos_conv_embed.conv.weight_g']\n",
      "- This IS expected if you are initializing SpeechT5ForSpeechToText from the checkpoint of a model trained on another task or with another architecture (e.g. initializing a BertForSequenceClassification model from a BertForPreTraining model).\n",
      "- This IS NOT expected if you are initializing SpeechT5ForSpeechToText from the checkpoint of a model that you expect to be exactly identical (initializing a BertForSequenceClassification model from a BertForSequenceClassification model).\n",
      "Some weights of SpeechT5ForSpeechToText were not initialized from the model checkpoint at microsoft/speecht5_asr and are newly initialized: ['speecht5.encoder.prenet.pos_conv_embed.conv.parametrizations.weight.original0', 'speecht5.encoder.prenet.pos_sinusoidal_embed.weights', 'speecht5.encoder.prenet.pos_conv_embed.conv.parametrizations.weight.original1']\n",
      "You should probably TRAIN this model on a down-stream task to be able to use it for predictions and inference.\n"
     ]
    },
    {
     "name": "stdout",
     "output_type": "stream",
     "text": [
      "there is a lot of families a housewife to offer the family to test whether the morning pope is vet\n"
     ]
    }
   ],
   "source": [
    "run()"
   ]
  },
  {
   "cell_type": "code",
   "execution_count": 40,
   "id": "e0afcb22",
   "metadata": {},
   "outputs": [
    {
     "name": "stdout",
     "output_type": "stream",
     "text": [
      "Collecting evaluate\n",
      "  Downloading evaluate-0.4.0-py3-none-any.whl (81 kB)\n",
      "     ---------------------------------------- 0.0/81.4 kB ? eta -:--:--\n",
      "     ----- ---------------------------------- 10.2/81.4 kB ? eta -:--:--\n",
      "     ----- ---------------------------------- 10.2/81.4 kB ? eta -:--:--\n",
      "     -------------- ----------------------- 30.7/81.4 kB 163.8 kB/s eta 0:00:01\n",
      "     -------------- ----------------------- 30.7/81.4 kB 163.8 kB/s eta 0:00:01\n",
      "     -------------- ----------------------- 30.7/81.4 kB 163.8 kB/s eta 0:00:01\n",
      "     ------------------- ------------------ 41.0/81.4 kB 115.9 kB/s eta 0:00:01\n",
      "     ------------------- ------------------ 41.0/81.4 kB 115.9 kB/s eta 0:00:01\n",
      "     ---------------------------- --------- 61.4/81.4 kB 149.3 kB/s eta 0:00:01\n",
      "     -------------------------------------- 81.4/81.4 kB 182.5 kB/s eta 0:00:00\n",
      "Requirement already satisfied: datasets>=2.0.0 in c:\\users\\raashid\\anaconda3\\envs\\ml_dl\\lib\\site-packages (from evaluate) (2.14.5)\n",
      "Requirement already satisfied: numpy>=1.17 in c:\\users\\raashid\\anaconda3\\envs\\ml_dl\\lib\\site-packages (from evaluate) (1.25.2)\n",
      "Requirement already satisfied: dill in c:\\users\\raashid\\anaconda3\\envs\\ml_dl\\lib\\site-packages (from evaluate) (0.3.7)\n",
      "Requirement already satisfied: pandas in c:\\users\\raashid\\anaconda3\\envs\\ml_dl\\lib\\site-packages (from evaluate) (2.1.1)\n",
      "Requirement already satisfied: requests>=2.19.0 in c:\\users\\raashid\\anaconda3\\envs\\ml_dl\\lib\\site-packages (from evaluate) (2.31.0)\n",
      "Requirement already satisfied: tqdm>=4.62.1 in c:\\users\\raashid\\anaconda3\\envs\\ml_dl\\lib\\site-packages (from evaluate) (4.66.1)\n",
      "Requirement already satisfied: xxhash in c:\\users\\raashid\\anaconda3\\envs\\ml_dl\\lib\\site-packages (from evaluate) (3.4.1)\n",
      "Requirement already satisfied: multiprocess in c:\\users\\raashid\\anaconda3\\envs\\ml_dl\\lib\\site-packages (from evaluate) (0.70.15)\n",
      "Requirement already satisfied: fsspec[http]>=2021.05.0 in c:\\users\\raashid\\anaconda3\\envs\\ml_dl\\lib\\site-packages (from evaluate) (2023.4.0)\n",
      "Requirement already satisfied: huggingface-hub>=0.7.0 in c:\\users\\raashid\\anaconda3\\envs\\ml_dl\\lib\\site-packages (from evaluate) (0.17.3)\n",
      "Requirement already satisfied: packaging in c:\\users\\raashid\\anaconda3\\envs\\ml_dl\\lib\\site-packages (from evaluate) (23.1)\n",
      "Collecting responses<0.19 (from evaluate)\n",
      "  Downloading responses-0.18.0-py3-none-any.whl (38 kB)\n",
      "Requirement already satisfied: pyarrow>=8.0.0 in c:\\users\\raashid\\anaconda3\\envs\\ml_dl\\lib\\site-packages (from datasets>=2.0.0->evaluate) (13.0.0)\n",
      "Requirement already satisfied: aiohttp in c:\\users\\raashid\\anaconda3\\envs\\ml_dl\\lib\\site-packages (from datasets>=2.0.0->evaluate) (3.8.6)\n",
      "Requirement already satisfied: pyyaml>=5.1 in c:\\users\\raashid\\anaconda3\\envs\\ml_dl\\lib\\site-packages (from datasets>=2.0.0->evaluate) (6.0.1)\n",
      "Requirement already satisfied: filelock in c:\\users\\raashid\\anaconda3\\envs\\ml_dl\\lib\\site-packages (from huggingface-hub>=0.7.0->evaluate) (3.9.0)\n",
      "Requirement already satisfied: typing-extensions>=3.7.4.3 in c:\\users\\raashid\\anaconda3\\envs\\ml_dl\\lib\\site-packages (from huggingface-hub>=0.7.0->evaluate) (4.7.1)\n",
      "Requirement already satisfied: charset-normalizer<4,>=2 in c:\\users\\raashid\\anaconda3\\envs\\ml_dl\\lib\\site-packages (from requests>=2.19.0->evaluate) (3.3.0)\n",
      "Requirement already satisfied: idna<4,>=2.5 in c:\\users\\raashid\\anaconda3\\envs\\ml_dl\\lib\\site-packages (from requests>=2.19.0->evaluate) (3.4)\n",
      "Requirement already satisfied: urllib3<3,>=1.21.1 in c:\\users\\raashid\\anaconda3\\envs\\ml_dl\\lib\\site-packages (from requests>=2.19.0->evaluate) (2.0.6)\n",
      "Requirement already satisfied: certifi>=2017.4.17 in c:\\users\\raashid\\anaconda3\\envs\\ml_dl\\lib\\site-packages (from requests>=2.19.0->evaluate) (2023.7.22)\n",
      "Requirement already satisfied: colorama in c:\\users\\raashid\\anaconda3\\envs\\ml_dl\\lib\\site-packages (from tqdm>=4.62.1->evaluate) (0.4.6)\n",
      "Requirement already satisfied: python-dateutil>=2.8.2 in c:\\users\\raashid\\anaconda3\\envs\\ml_dl\\lib\\site-packages (from pandas->evaluate) (2.8.2)\n",
      "Requirement already satisfied: pytz>=2020.1 in c:\\users\\raashid\\anaconda3\\envs\\ml_dl\\lib\\site-packages (from pandas->evaluate) (2023.3.post1)\n",
      "Requirement already satisfied: tzdata>=2022.1 in c:\\users\\raashid\\anaconda3\\envs\\ml_dl\\lib\\site-packages (from pandas->evaluate) (2023.3)\n",
      "Requirement already satisfied: attrs>=17.3.0 in c:\\users\\raashid\\anaconda3\\envs\\ml_dl\\lib\\site-packages (from aiohttp->datasets>=2.0.0->evaluate) (23.1.0)\n",
      "Requirement already satisfied: multidict<7.0,>=4.5 in c:\\users\\raashid\\anaconda3\\envs\\ml_dl\\lib\\site-packages (from aiohttp->datasets>=2.0.0->evaluate) (6.0.4)\n",
      "Requirement already satisfied: async-timeout<5.0,>=4.0.0a3 in c:\\users\\raashid\\anaconda3\\envs\\ml_dl\\lib\\site-packages (from aiohttp->datasets>=2.0.0->evaluate) (4.0.3)\n",
      "Requirement already satisfied: yarl<2.0,>=1.0 in c:\\users\\raashid\\anaconda3\\envs\\ml_dl\\lib\\site-packages (from aiohttp->datasets>=2.0.0->evaluate) (1.9.2)\n",
      "Requirement already satisfied: frozenlist>=1.1.1 in c:\\users\\raashid\\anaconda3\\envs\\ml_dl\\lib\\site-packages (from aiohttp->datasets>=2.0.0->evaluate) (1.4.0)\n",
      "Requirement already satisfied: aiosignal>=1.1.2 in c:\\users\\raashid\\anaconda3\\envs\\ml_dl\\lib\\site-packages (from aiohttp->datasets>=2.0.0->evaluate) (1.3.1)\n",
      "Requirement already satisfied: six>=1.5 in c:\\users\\raashid\\anaconda3\\envs\\ml_dl\\lib\\site-packages (from python-dateutil>=2.8.2->pandas->evaluate) (1.16.0)\n",
      "Installing collected packages: responses, evaluate\n",
      "Successfully installed evaluate-0.4.0 responses-0.18.0\n",
      "Note: you may need to restart the kernel to use updated packages.\n"
     ]
    }
   ],
   "source": [
    "pip install evaluate"
   ]
  },
  {
   "cell_type": "code",
   "execution_count": null,
   "id": "8e1c5eba",
   "metadata": {},
   "outputs": [],
   "source": []
  }
 ],
 "metadata": {
  "kernelspec": {
   "display_name": "Python 3 (ipykernel)",
   "language": "python",
   "name": "python3"
  },
  "language_info": {
   "codemirror_mode": {
    "name": "ipython",
    "version": 3
   },
   "file_extension": ".py",
   "mimetype": "text/x-python",
   "name": "python",
   "nbconvert_exporter": "python",
   "pygments_lexer": "ipython3",
   "version": "3.11.5"
  }
 },
 "nbformat": 4,
 "nbformat_minor": 5
}
